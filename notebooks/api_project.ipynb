{
 "cells": [
  {
   "cell_type": "code",
   "execution_count": 1,
   "id": "d700e052",
   "metadata": {},
   "outputs": [],
   "source": [
    "import requests\n",
    "import pandas as pd\n",
    "import matplotlib.pyplot as plt\n",
    "import json"
   ]
  },
  {
   "cell_type": "markdown",
   "id": "3bb942d3",
   "metadata": {},
   "source": [
    "1. Make an API request that returns the months where \"fire\" was searched in 2016. Which month had the most searches?"
   ]
  },
  {
   "cell_type": "code",
   "execution_count": 2,
   "id": "ac27ea40",
   "metadata": {},
   "outputs": [
    {
     "data": {
      "text/plain": [
       "'[{\"month_name\":\"January\",\"year\":\"2016\",\"query_count\":\"19\",\"query_text\":\"fire\"}\\n,{\"month_name\":\"February\",\"year\":\"2016\",\"query_count\":\"35\",\"query_text\":\"fire\"}\\n,{\"month_name\":\"March\",\"year\":\"2016\",\"query_count\":\"32\",\"query_text\":\"fire\"}\\n,{\"month_name\":\"April\",\"year\":\"2016\",\"query_count\":\"26\",\"query_text\":\"fire\"}\\n,{\"month_name\":\"May\",\"year\":\"2016\",\"query_count\":\"24\",\"query_text\":\"fire\"}\\n,{\"month_name\":\"June\",\"year\":\"2016\",\"query_count\":\"31\",\"query_text\":\"fire\"}\\n,{\"month_name\":\"July\",\"year\":\"2016\",\"query_count\":\"24\",\"query_text\":\"fire\"}\\n,{\"month_name\":\"August\",\"year\":\"2016\",\"query_count\":\"47\",\"query_text\":\"fire\"}\\n,{\"month_name\":\"September\",\"year\":\"2016\",\"query_count\":\"36\",\"query_text\":\"fire\"}\\n,{\"month_name\":\"October\",\"year\":\"2016\",\"query_count\":\"38\",\"query_text\":\"fire\"}\\n,{\"month_name\":\"November\",\"year\":\"2016\",\"query_count\":\"32\",\"query_text\":\"fire\"}\\n,{\"month_name\":\"December\",\"year\":\"2016\",\"query_count\":\"38\",\"query_text\":\"fire\"}]\\n'"
      ]
     },
     "execution_count": 2,
     "metadata": {},
     "output_type": "execute_result"
    }
   ],
   "source": [
    "endpoint = 'https://data.nashville.gov/resource/fuaa-r5cm.json'\n",
    "\n",
    "params = {\n",
    "    'year' : '2016',\n",
    "    'query_text' : 'fire'\n",
    "}\n",
    "\n",
    "response = requests.get(endpoint, params = params)\n",
    "response.text"
   ]
  },
  {
   "cell_type": "code",
   "execution_count": 3,
   "id": "52ee644c",
   "metadata": {},
   "outputs": [
    {
     "data": {
      "text/plain": [
       "[{'month_name': 'January',\n",
       "  'year': '2016',\n",
       "  'query_count': '19',\n",
       "  'query_text': 'fire'},\n",
       " {'month_name': 'February',\n",
       "  'year': '2016',\n",
       "  'query_count': '35',\n",
       "  'query_text': 'fire'},\n",
       " {'month_name': 'March',\n",
       "  'year': '2016',\n",
       "  'query_count': '32',\n",
       "  'query_text': 'fire'},\n",
       " {'month_name': 'April',\n",
       "  'year': '2016',\n",
       "  'query_count': '26',\n",
       "  'query_text': 'fire'},\n",
       " {'month_name': 'May',\n",
       "  'year': '2016',\n",
       "  'query_count': '24',\n",
       "  'query_text': 'fire'},\n",
       " {'month_name': 'June',\n",
       "  'year': '2016',\n",
       "  'query_count': '31',\n",
       "  'query_text': 'fire'},\n",
       " {'month_name': 'July',\n",
       "  'year': '2016',\n",
       "  'query_count': '24',\n",
       "  'query_text': 'fire'},\n",
       " {'month_name': 'August',\n",
       "  'year': '2016',\n",
       "  'query_count': '47',\n",
       "  'query_text': 'fire'},\n",
       " {'month_name': 'September',\n",
       "  'year': '2016',\n",
       "  'query_count': '36',\n",
       "  'query_text': 'fire'},\n",
       " {'month_name': 'October',\n",
       "  'year': '2016',\n",
       "  'query_count': '38',\n",
       "  'query_text': 'fire'},\n",
       " {'month_name': 'November',\n",
       "  'year': '2016',\n",
       "  'query_count': '32',\n",
       "  'query_text': 'fire'},\n",
       " {'month_name': 'December',\n",
       "  'year': '2016',\n",
       "  'query_count': '38',\n",
       "  'query_text': 'fire'}]"
      ]
     },
     "execution_count": 3,
     "metadata": {},
     "output_type": "execute_result"
    }
   ],
   "source": [
    "res = response.json()\n",
    "res"
   ]
  },
  {
   "cell_type": "code",
   "execution_count": 12,
   "id": "981d88b9",
   "metadata": {},
   "outputs": [
    {
     "data": {
      "text/plain": [
       "'47'"
      ]
     },
     "execution_count": 12,
     "metadata": {},
     "output_type": "execute_result"
    }
   ],
   "source": [
    "res[7]['query_count']"
   ]
  },
  {
   "cell_type": "code",
   "execution_count": 14,
   "id": "57f578a0",
   "metadata": {},
   "outputs": [
    {
     "name": "stdout",
     "output_type": "stream",
     "text": [
      "  month_name  year query_count query_text\n",
      "7     August  2016          47       fire\n"
     ]
    }
   ],
   "source": [
    "df1 = pd.DataFrame(res)\n",
    "print(df1[df1.query_count == df1.query_count.max()])"
   ]
  },
  {
   "cell_type": "markdown",
   "id": "32c36e53",
   "metadata": {},
   "source": [
    "Answer 1) August had the most searches for fire in 2016"
   ]
  },
  {
   "cell_type": "markdown",
   "id": "d488310f",
   "metadata": {},
   "source": [
    "2. Make an API request that returns all the times a query was run more than 100 times in a month. How many times did this occur?"
   ]
  },
  {
   "cell_type": "code",
   "execution_count": null,
   "id": "354ade0d",
   "metadata": {},
   "outputs": [],
   "source": []
  }
 ],
 "metadata": {
  "kernelspec": {
   "display_name": "Python 3 (ipykernel)",
   "language": "python",
   "name": "python3"
  },
  "language_info": {
   "codemirror_mode": {
    "name": "ipython",
    "version": 3
   },
   "file_extension": ".py",
   "mimetype": "text/x-python",
   "name": "python",
   "nbconvert_exporter": "python",
   "pygments_lexer": "ipython3",
   "version": "3.9.12"
  }
 },
 "nbformat": 4,
 "nbformat_minor": 5
}
